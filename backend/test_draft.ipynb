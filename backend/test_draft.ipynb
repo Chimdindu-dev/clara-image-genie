{
 "cells": [
  {
   "cell_type": "code",
   "execution_count": 24,
   "metadata": {},
   "outputs": [
    {
     "name": "stdout",
     "output_type": "stream",
     "text": [
      "0\n",
      "a bird flying through the air with a blue sky\n",
      "1\n",
      "None\n"
     ]
    }
   ],
   "source": [
    "for i in range(len(image_content_cached)):\n",
    "    print(i)\n",
    "    print(image_content_cached[i])"
   ]
  },
  {
   "cell_type": "code",
   "execution_count": 23,
   "metadata": {},
   "outputs": [
    {
     "ename": "IndexError",
     "evalue": "list index out of range",
     "output_type": "error",
     "traceback": [
      "\u001b[1;31m---------------------------------------------------------------------------\u001b[0m",
      "\u001b[1;31mIndexError\u001b[0m                                Traceback (most recent call last)",
      "\u001b[1;32m~\\AppData\\Local\\Temp\\ipykernel_19676\\1841718174.py\u001b[0m in \u001b[0;36m<module>\u001b[1;34m\u001b[0m\n\u001b[0;32m      3\u001b[0m image_content_list = [image_content_uncached[i] if image_content_cached[i] is None \\\n\u001b[0;32m      4\u001b[0m                         \u001b[1;32melse\u001b[0m \u001b[0mimage_content_cached\u001b[0m\u001b[1;33m[\u001b[0m\u001b[0mi\u001b[0m\u001b[1;33m]\u001b[0m\u001b[0;31m \u001b[0m\u001b[0;31m\\\u001b[0m\u001b[1;33m\u001b[0m\u001b[1;33m\u001b[0m\u001b[0m\n\u001b[1;32m----> 5\u001b[1;33m                         for i in range(len(image_content_cached))] # should be in same order as image_file_list\n\u001b[0m\u001b[0;32m      6\u001b[0m \u001b[0mprint\u001b[0m\u001b[1;33m(\u001b[0m\u001b[0mimage_content_list\u001b[0m\u001b[1;33m)\u001b[0m\u001b[1;33m\u001b[0m\u001b[1;33m\u001b[0m\u001b[0m\n",
      "\u001b[1;32m~\\AppData\\Local\\Temp\\ipykernel_19676\\1841718174.py\u001b[0m in \u001b[0;36m<listcomp>\u001b[1;34m(.0)\u001b[0m\n\u001b[0;32m      3\u001b[0m image_content_list = [image_content_uncached[i] if image_content_cached[i] is None \\\n\u001b[0;32m      4\u001b[0m                         \u001b[1;32melse\u001b[0m \u001b[0mimage_content_cached\u001b[0m\u001b[1;33m[\u001b[0m\u001b[0mi\u001b[0m\u001b[1;33m]\u001b[0m\u001b[0;31m \u001b[0m\u001b[0;31m\\\u001b[0m\u001b[1;33m\u001b[0m\u001b[1;33m\u001b[0m\u001b[0m\n\u001b[1;32m----> 5\u001b[1;33m                         for i in range(len(image_content_cached))] # should be in same order as image_file_list\n\u001b[0m\u001b[0;32m      6\u001b[0m \u001b[0mprint\u001b[0m\u001b[1;33m(\u001b[0m\u001b[0mimage_content_list\u001b[0m\u001b[1;33m)\u001b[0m\u001b[1;33m\u001b[0m\u001b[1;33m\u001b[0m\u001b[0m\n",
      "\u001b[1;31mIndexError\u001b[0m: list index out of range"
     ]
    }
   ],
   "source": [
    "image_content_cached = ['a bird flying through the air with a blue sky', None]\n",
    "image_content_uncached = ['test str']\n",
    "\n",
    "image_content_list = []\n",
    "uncached_counter = 0\n",
    "for i in range(len(image_content_cached)):\n",
    "    if image_content_cached[i] is None:\n",
    "        image_content_list.append(image_content_uncached[uncached_counter])\n",
    "        uncached_counter += 1\n",
    "    else:\n",
    "        image_content_list.append(image_content_cached[i])\n"
   ]
  }
 ],
 "metadata": {
  "kernelspec": {
   "display_name": "simclr",
   "language": "python",
   "name": "python3"
  },
  "language_info": {
   "codemirror_mode": {
    "name": "ipython",
    "version": 3
   },
   "file_extension": ".py",
   "mimetype": "text/x-python",
   "name": "python",
   "nbconvert_exporter": "python",
   "pygments_lexer": "ipython3",
   "version": "3.7.6"
  },
  "orig_nbformat": 4,
  "vscode": {
   "interpreter": {
    "hash": "2c424c259c8f2a582a08f427d1654b6aad3cfc054925060343ecdb256572ebb3"
   }
  }
 },
 "nbformat": 4,
 "nbformat_minor": 2
}
