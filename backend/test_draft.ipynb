{
 "cells": [
  {
   "cell_type": "code",
   "execution_count": 22,
   "metadata": {},
   "outputs": [
    {
     "data": {
      "text/plain": [
       "array(['init_img'], dtype=object)"
      ]
     },
     "execution_count": 22,
     "metadata": {},
     "output_type": "execute_result"
    }
   ],
   "source": [
    "import pandas as pd\n",
    "\n",
    "model_cache_csv = r'D:\\repo\\clara-image-genie\\model_cache\\model_cache.csv'.replace('\\\\', '/')\n",
    "\n",
    "df = pd.read_csv(model_cache_csv).reset_index(drop=True)\n",
    "# print(df.columns)\n",
    "# df['image_content_list_desc']\n",
    "# df.iloc[0, 1]\n",
    "# df\n",
    "\n",
    "df.image_file_path.unique()"
   ]
  }
 ],
 "metadata": {
  "kernelspec": {
   "display_name": "simclr",
   "language": "python",
   "name": "python3"
  },
  "language_info": {
   "codemirror_mode": {
    "name": "ipython",
    "version": 3
   },
   "file_extension": ".py",
   "mimetype": "text/x-python",
   "name": "python",
   "nbconvert_exporter": "python",
   "pygments_lexer": "ipython3",
   "version": "3.7.6"
  },
  "orig_nbformat": 4,
  "vscode": {
   "interpreter": {
    "hash": "2c424c259c8f2a582a08f427d1654b6aad3cfc054925060343ecdb256572ebb3"
   }
  }
 },
 "nbformat": 4,
 "nbformat_minor": 2
}
